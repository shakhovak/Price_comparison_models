{
 "cells": [
  {
   "cell_type": "code",
   "execution_count": 1,
   "id": "f45fc440",
   "metadata": {},
   "outputs": [],
   "source": [
    "import pandas as pd\n",
    "import requests\n",
    "from bs4 import BeautifulSoup\n",
    "import fake_useragent\n",
    "import re\n",
    "import warnings\n",
    "warnings.filterwarnings(\"ignore\")\n",
    "\n",
    "ua = fake_useragent.UserAgent()"
   ]
  },
  {
   "cell_type": "code",
   "execution_count": 2,
   "id": "8e3b56f0",
   "metadata": {},
   "outputs": [],
   "source": [
    "def get_url(category, tot_pages):\n",
    "    for page in range(1,tot_pages+1):\n",
    "        if page % log_frequency == 0:\n",
    "            print(f'Log: working over page {page}...')       \n",
    "        \n",
    "        url_main = f'https://www.domsporta.com/catalog/{category}/?PAGEN_1={page}'\n",
    "        response = requests.get(url_main, headers = {'user-agent': ua.random})\n",
    "        soup = BeautifulSoup(response.content, 'lxml')\n",
    "        data = soup.find_all(class_ = 'b-catalog__item-info')\n",
    "        for item in data:\n",
    "            item_url = 'https://www.domsporta.com' + item.find('a').attrs['href']\n",
    "            yield item_url"
   ]
  },
  {
   "cell_type": "code",
   "execution_count": 3,
   "id": "bb5e45a2",
   "metadata": {},
   "outputs": [],
   "source": [
    "def get_item(category, tot_pages):\n",
    "    \n",
    "    for url_item in get_url(category, tot_pages):\n",
    "        response = requests.get(url_item, headers = {'user-agent': ua.random})\n",
    "        soup = BeautifulSoup(response.content, 'lxml')\n",
    "        \n",
    "        try:\n",
    "            title = soup.find('h1').text\n",
    "        except:\n",
    "            title = ''\n",
    "\n",
    "        try:\n",
    "            article = soup.find(class_ = 'b-detail-wide__top-info-wrap -product-code').text\n",
    "            article = article.replace(' ', '')\n",
    "            article = article.replace('\\nКодтовара:', '')\n",
    "        except:\n",
    "            article = ''\n",
    "\n",
    "        try:\n",
    "            image = soup.find_all('img', alt = True)\n",
    "            for im in image:\n",
    "                if bool(re.search(pattern = re.escape(title), string = im.attrs['alt'])):\n",
    "                    url = 'https://www.domsporta.com' + im.attrs['src']\n",
    "                    with open(f'images/{article}.jpeg', 'wb') as f:\n",
    "                        r = requests.get(url)\n",
    "                        f.write(r.content)\n",
    "                    break\n",
    "        except:\n",
    "            print(f'Log: no image for {article} found...')\n",
    "            url = ''\n",
    "            \n",
    "        \n",
    "            \n",
    "        description = []\n",
    "        try:\n",
    "            desc = soup.find(class_ = 'b-detail__tab-description').children\n",
    "            \n",
    "            for child in desc:\n",
    "                child = child.text.replace('\\n', '')\n",
    "                child = child.replace('ОСНОВНАЯ ИНФОРМАЦИЯ', '')\n",
    "                if child == '':\n",
    "                    pass\n",
    "                else:\n",
    "                    description.append(child.replace('\\xa0', '').strip())\n",
    "        except:\n",
    "            description.append('')\n",
    "        description_fin = ' '.join(map(str,(description)))\n",
    "            \n",
    "        characteristics = []\n",
    "        try:\n",
    "            char = soup.find(class_ = 'b-detail__characteristics').children\n",
    "            \n",
    "            for ch in char:\n",
    "                ch = ch.text.replace('\\n?', '')\n",
    "                ch = ch.replace('Общие свойства', '')\n",
    "                ch = ch.replace('\\n\\n', ':').strip()\n",
    "                ch = ch.replace(':\\n', ' ')\n",
    "                if ch == '':\n",
    "                    pass\n",
    "                else:\n",
    "                    characteristics.append(ch.strip())\n",
    "        except:\n",
    "            characteristics.append('')\n",
    "        characteristics_fin = ' '.join(map(str,(characteristics)))\n",
    "        try:\n",
    "            price = soup.find(class_ = 'b-detail__price').text\n",
    "            price = price.replace('руб.', '')\n",
    "            price = price.replace(' ', '')\n",
    "            price = price.replace('\\n', '')\n",
    "        except:\n",
    "            price = ''\n",
    "\n",
    "        try:\n",
    "            categories = soup.find(class_ = 'breadcrumbs')\n",
    "            cat = categories.find_all('a')\n",
    "            cat_1 = cat[1].text\n",
    "        except:\n",
    "            cat_1 = ''\n",
    "        try:\n",
    "            cat_2 = cat[2].text\n",
    "        except:\n",
    "            cat_2 = ''\n",
    "        try:\n",
    "            cat_3 = cat[3].text\n",
    "        except:\n",
    "            cat_3 = ''\n",
    "    \n",
    "        yield title, article, price, cat_1, cat_2, cat_3, url, description_fin, characteristics_fin"
   ]
  },
  {
   "cell_type": "code",
   "execution_count": 4,
   "id": "07590432",
   "metadata": {},
   "outputs": [],
   "source": [
    "df_columns = ['title', 'article','price', 'cat_1', 'cat_2', 'cat_3','url', \n",
    "              'description', 'caracteristics']\n",
    "\n",
    "df = pd.DataFrame(columns = df_columns)\n",
    "save_frequency = 50\n",
    "log_frequency = 5"
   ]
  },
  {
   "cell_type": "code",
   "execution_count": 5,
   "id": "1285fbc6",
   "metadata": {},
   "outputs": [],
   "source": [
    "def to_csv(category, tot_pages):\n",
    "    counter = 0  \n",
    "\n",
    "    for item in get_item(category, tot_pages):\n",
    "            data = []\n",
    "            for i in range(len(df_columns)):\n",
    "                data.append(item[i])\n",
    "            df.loc[len(df.index)] = data\n",
    "            #time.sleep(0.05)\n",
    "\n",
    "            counter += 1\n",
    "            if counter % save_frequency == 0:\n",
    "                df.to_csv('domsporta.csv')\n",
    "                print(f'{counter} items saved in csv..')\n",
    "    df.to_csv('domsporta.csv')\n",
    "\n",
    "    print(f'\\nTotal items saved: {counter}')  "
   ]
  },
  {
   "cell_type": "code",
   "execution_count": 6,
   "id": "9db01c4d",
   "metadata": {},
   "outputs": [
    {
     "name": "stdout",
     "output_type": "stream",
     "text": [
      "50 items saved in csv..\n",
      "\n",
      "Total items saved: 71\n"
     ]
    }
   ],
   "source": [
    "to_csv('steppery', 4)"
   ]
  },
  {
   "cell_type": "code",
   "execution_count": 7,
   "id": "4b881973",
   "metadata": {},
   "outputs": [
    {
     "name": "stdout",
     "output_type": "stream",
     "text": [
      "50 items saved in csv..\n",
      "Log: working over page 5...\n",
      "100 items saved in csv..\n",
      "150 items saved in csv..\n",
      "Log: working over page 10...\n",
      "200 items saved in csv..\n",
      "250 items saved in csv..\n",
      "Log: working over page 15...\n",
      "300 items saved in csv..\n",
      "350 items saved in csv..\n",
      "Log: working over page 20...\n",
      "400 items saved in csv..\n",
      "450 items saved in csv..\n",
      "Log: working over page 25...\n",
      "500 items saved in csv..\n",
      "\n",
      "Total items saved: 519\n"
     ]
    }
   ],
   "source": [
    "to_csv('begovye_dorozhki', 27)"
   ]
  },
  {
   "cell_type": "code",
   "execution_count": 8,
   "id": "e8827ab4",
   "metadata": {},
   "outputs": [
    {
     "name": "stdout",
     "output_type": "stream",
     "text": [
      "Items with no article: [82, 105, 146, 186, 223, 350, 500]\n",
      "Items with no title: []\n",
      "Items with no price: [0, 68, 69, 70, 82, 105, 146, 186, 223, 295, 350, 500, 568, 569, 570, 571, 572, 573, 574, 575, 576, 577, 578, 579, 580, 581, 582, 583, 584, 585, 586, 587, 588, 589]\n",
      "Items with no description: [82, 105, 146, 186, 223, 350, 500]\n"
     ]
    }
   ],
   "source": [
    "print(f\"Items with no article: {list(df[df['article'] == ''].index)}\")\n",
    "print(f\"Items with no title: {list(df[df['title'] == ''].index)}\")\n",
    "print(f\"Items with no price: {list(df[df['price'] == ''].index)}\")\n",
    "print(f\"Items with no description: {list(df[df['description'] == ''].index)}\")"
   ]
  },
  {
   "cell_type": "code",
   "execution_count": 9,
   "id": "c5227a46",
   "metadata": {
    "scrolled": false
   },
   "outputs": [],
   "source": [
    "#def show_image(val):\n",
    "    #return '<a href=\"{}\"><img src=\"{}\" width=10000></img></a>'.format(val, val)\n",
    "#df.iloc[58:60].style.format({'url': show_image, **{'width': '100px'}})\n",
    "\n"
   ]
  }
 ],
 "metadata": {
  "kernelspec": {
   "display_name": "Python 3 (ipykernel)",
   "language": "python",
   "name": "python3"
  },
  "language_info": {
   "codemirror_mode": {
    "name": "ipython",
    "version": 3
   },
   "file_extension": ".py",
   "mimetype": "text/x-python",
   "name": "python",
   "nbconvert_exporter": "python",
   "pygments_lexer": "ipython3",
   "version": "3.9.13"
  }
 },
 "nbformat": 4,
 "nbformat_minor": 5
}
